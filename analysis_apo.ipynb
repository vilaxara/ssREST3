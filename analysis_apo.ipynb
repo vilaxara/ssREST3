{
 "cells": [
  {
   "cell_type": "code",
   "execution_count": null,
   "id": "b316477a",
   "metadata": {},
   "outputs": [],
   "source": [
    "import os\n",
    "import sys\n",
    "\n",
    "sys.path.insert(0, './scripts')\n",
    "\n",
    "import structure_analysis_changes\n"
   ]
  },
  {
   "cell_type": "code",
   "execution_count": null,
   "id": "b3003662",
   "metadata": {},
   "outputs": [],
   "source": [
    "base_dir='/data/ssREST3/xtc/'\n",
    "# dir_list = [f'{base_dir}/REST2/apo_10/r/',\n",
    "#             f'{base_dir}/REST2/apo_10/d/']\n",
    "# dir_list = [f'{base_dir}/REST2/apo_20/r/',\n",
    "#             f'{base_dir}/REST2/apo_20/d/']\n",
    "# dir_list = [f'{base_dir}/ssREST3/apo_8/r/',\n",
    "#             f'{base_dir}/ssREST3/apo_8/d/']\n",
    "dir_list = [f'{base_dir}/ssREST3/apo_16/r/',\n",
    "            f'{base_dir}/ssREST3/apo_16/d/']\n",
    "\n",
    "# pdb= f'{base_dir}/REST2/pbc_apo.pdb'\n",
    "pdb= f'{base_dir}/ssREST3/pbc_apo.pdb'\n",
    "\n",
    "tpr=None\n",
    "\n",
    "# out_dir= '/data/ssREST3/Apo/REST2-1/'\n",
    "# out_dir= '/data/ssREST3/Apo/REST2-2/'\n",
    "# out_dir= '/data/ssREST3/Apo/REST3-1/'\n",
    "out_dir= '/data/ssREST3/Apo/REST3-2/'\n",
    "\n",
    "if not os.path.exists(out_dir):\n",
    "    os.makedirs(out_dir)\n",
    "\n",
    "nreps=[1,10,20,8,16]\n",
    "reps=nreps[4]\n",
    "\n",
    "pbc={'pbc' : True, 'traj_tag_in' : 'pbc_','traj_tag_out' : None, 'traj_type' : 'xtc'}\n",
    "# pbc={'pbc' : False, 'traj_tag_in' : 'whole_','traj_tag_out' : 'pbc_', 'traj_type' : 'xtc'}\n",
    "\n",
    "helix='/data/Jaya_Krishna/analysis_trajectories/async/rest/asyn_sa.pdb'\n",
    "pp='/data/Jaya_Krishna/analysis_trajectories/async/rest/asyn_pp.pdb'\n",
    "\n",
    "apo=True\n",
    "\n",
    "residue_number_info={'p_s_n': 0,\n",
    "                     'p_e_n': 19,\n",
    "                    #  'l_e_i': 20,\n",
    "                     'offset': 121}\n",
    "\n",
    "analysis_list=['salpha_rmsd', 'pp_rmsd', 'rg' , 'ss' , 'ba' , 'p_cm']\n",
    "\n"
   ]
  },
  {
   "cell_type": "code",
   "execution_count": null,
   "id": "e256bfc3",
   "metadata": {},
   "outputs": [],
   "source": [
    "structure_analysis_changes.ligand_interactions(rep_trajectory=dir_list[0],\n",
    "                                                demux_trajectory=dir_list[1], \n",
    "                                                out_dir=out_dir,\n",
    "                                                pbc_tpr=tpr ,\n",
    "                                                nreps=reps,\n",
    "                                                pdb=pdb, \n",
    "                                                helix_pdb=helix, \n",
    "                                                pp_pdb=pp, \n",
    "                                                # ligand_rings=ligand_rings[lig], \n",
    "                                                # ligand_residue_index=residue_number_info['l_e_i'], \n",
    "                                                prot_end_res_num=residue_number_info['p_e_n'], \n",
    "                                                prot_start_res_num=residue_number_info['p_s_n'], \n",
    "                                                stride=1, \n",
    "                                                offset=residue_number_info['offset'], \n",
    "                                                # ligand_positive_charge_atoms=Ligand_Pos_Charges[lig], \n",
    "                                                # ligand_negative_charge_atoms=Ligand_Neg_Charges[lig], \n",
    "                                                # lig_hbond_donors=lig_hbond_donors[lig],\n",
    "                                                rep_demux_switch=\"on\",\n",
    "                                                trj_break=10,\n",
    "                                                apo=apo,\n",
    "                                                pbc=pbc,\n",
    "                                                analysis_list=analysis_list)"
   ]
  },
  {
   "cell_type": "code",
   "execution_count": null,
   "id": "522f3530",
   "metadata": {},
   "outputs": [],
   "source": []
  }
 ],
 "metadata": {
  "kernelspec": {
   "display_name": "Python 3",
   "language": "python",
   "name": "python3"
  },
  "language_info": {
   "codemirror_mode": {
    "name": "ipython",
    "version": 3
   },
   "file_extension": ".py",
   "mimetype": "text/x-python",
   "name": "python",
   "nbconvert_exporter": "python",
   "pygments_lexer": "ipython3",
   "version": "3.11.10"
  }
 },
 "nbformat": 4,
 "nbformat_minor": 5
}
